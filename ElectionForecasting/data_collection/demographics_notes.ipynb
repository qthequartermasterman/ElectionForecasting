{
 "cells": [
  {
   "cell_type": "code",
   "execution_count": 19,
   "metadata": {
    "collapsed": true
   },
   "outputs": [],
   "source": [
    "import numpy as np\n",
    "import pandas as pd\n",
    "\n",
    "from demographics import congressional_district_demographics"
   ]
  },
  {
   "cell_type": "code",
   "execution_count": 2,
   "outputs": [
    {
     "data": {
      "text/plain": "               Total Population  \\\nCalifornia-03            717438   \nCalifornia-21            674920   \nCalifornia-48            717896   \nCalifornia-10            687453   \nCalifornia-34            735858   \n\n               Median household income in the past 12 months (in 2019 inflation-adjusted dollars)  \\\nCalifornia-03                                              50663                                    \nCalifornia-21                                              50494                                    \nCalifornia-48                                              51925                                    \nCalifornia-10                                              47531                                    \nCalifornia-34                                              59950                                    \n\n               UNITS IN STRUCTURE:Total  Male Population  \\\nCalifornia-03                    345987         0.482083   \nCalifornia-21                    317151         0.482497   \nCalifornia-48                    337424         0.487027   \nCalifornia-10                    319267         0.490694   \nCalifornia-34                    326251         0.487628   \n\n               Male Population: Under 5 years  Male Population: 5 to 9 years  \\\nCalifornia-03                        0.031343                       0.029435   \nCalifornia-21                        0.031816                       0.033608   \nCalifornia-48                        0.030460                       0.031672   \nCalifornia-10                        0.027369                       0.030998   \nCalifornia-34                        0.028277                       0.028654   \n\n               Male Population: 10 to 14 years  \\\nCalifornia-03                         0.036389   \nCalifornia-21                         0.031376   \nCalifornia-48                         0.031874   \nCalifornia-10                         0.035688   \nCalifornia-34                         0.032448   \n\n               Male Population: 15 to 17 years  \\\nCalifornia-03                         0.020342   \nCalifornia-21                         0.019676   \nCalifornia-48                         0.019816   \nCalifornia-10                         0.018094   \nCalifornia-34                         0.020088   \n\n               Male Population: 18 and 19 years  Male Population: 20 years  \\\nCalifornia-03                          0.012230                   0.004872   \nCalifornia-21                          0.012956                   0.005655   \nCalifornia-48                          0.015175                   0.008773   \nCalifornia-10                          0.011154                   0.005353   \nCalifornia-34                          0.012328                   0.008195   \n\n               ...  UNITS IN STRUCTURE:2  UNITS IN STRUCTURE:3 or 4  \\\nCalifornia-03  ...              0.014954                   0.035022   \nCalifornia-21  ...              0.020177                   0.037796   \nCalifornia-48  ...              0.016739                   0.069764   \nCalifornia-10  ...              0.021468                   0.027128   \nCalifornia-34  ...              0.014400                   0.057790   \n\n               UNITS IN STRUCTURE:5 to 9  UNITS IN STRUCTURE:10 to 19  \\\nCalifornia-03                   0.040623                     0.033137   \nCalifornia-21                   0.021384                     0.006593   \nCalifornia-48                   0.056146                     0.048120   \nCalifornia-10                   0.019936                     0.015623   \nCalifornia-34                   0.066283                     0.087788   \n\n               UNITS IN STRUCTURE:20 to 49  UNITS IN STRUCTURE:50 or more  \\\nCalifornia-03                     0.019882                       0.026380   \nCalifornia-21                     0.013577                       0.021413   \nCalifornia-48                     0.037096                       0.075750   \nCalifornia-10                     0.013948                       0.025336   \nCalifornia-34                     0.156045                       0.236536   \n\n               UNITS IN STRUCTURE:Mobile home  \\\nCalifornia-03                        0.047704   \nCalifornia-21                        0.048346   \nCalifornia-48                        0.024989   \nCalifornia-10                        0.030971   \nCalifornia-34                        0.001995   \n\n               UNITS IN STRUCTURE:Boat, RV, van, etc.  Cook PVI  \\\nCalifornia-03                                0.004101      -5.0   \nCalifornia-21                                0.000382      -5.0   \nCalifornia-48                                0.000776       1.0   \nCalifornia-10                                0.000495       0.0   \nCalifornia-34                                0.001625     -34.0   \n\n               Incumbent House Party  \nCalifornia-03             Democratic  \nCalifornia-21             Republican  \nCalifornia-48             Republican  \nCalifornia-10             Democratic  \nCalifornia-34             Democratic  \n\n[5 rows x 156 columns]",
      "text/html": "<div>\n<style scoped>\n    .dataframe tbody tr th:only-of-type {\n        vertical-align: middle;\n    }\n\n    .dataframe tbody tr th {\n        vertical-align: top;\n    }\n\n    .dataframe thead th {\n        text-align: right;\n    }\n</style>\n<table border=\"1\" class=\"dataframe\">\n  <thead>\n    <tr style=\"text-align: right;\">\n      <th></th>\n      <th>Total Population</th>\n      <th>Median household income in the past 12 months (in 2019 inflation-adjusted dollars)</th>\n      <th>UNITS IN STRUCTURE:Total</th>\n      <th>Male Population</th>\n      <th>Male Population: Under 5 years</th>\n      <th>Male Population: 5 to 9 years</th>\n      <th>Male Population: 10 to 14 years</th>\n      <th>Male Population: 15 to 17 years</th>\n      <th>Male Population: 18 and 19 years</th>\n      <th>Male Population: 20 years</th>\n      <th>...</th>\n      <th>UNITS IN STRUCTURE:2</th>\n      <th>UNITS IN STRUCTURE:3 or 4</th>\n      <th>UNITS IN STRUCTURE:5 to 9</th>\n      <th>UNITS IN STRUCTURE:10 to 19</th>\n      <th>UNITS IN STRUCTURE:20 to 49</th>\n      <th>UNITS IN STRUCTURE:50 or more</th>\n      <th>UNITS IN STRUCTURE:Mobile home</th>\n      <th>UNITS IN STRUCTURE:Boat, RV, van, etc.</th>\n      <th>Cook PVI</th>\n      <th>Incumbent House Party</th>\n    </tr>\n  </thead>\n  <tbody>\n    <tr>\n      <th>California-03</th>\n      <td>717438</td>\n      <td>50663</td>\n      <td>345987</td>\n      <td>0.482083</td>\n      <td>0.031343</td>\n      <td>0.029435</td>\n      <td>0.036389</td>\n      <td>0.020342</td>\n      <td>0.012230</td>\n      <td>0.004872</td>\n      <td>...</td>\n      <td>0.014954</td>\n      <td>0.035022</td>\n      <td>0.040623</td>\n      <td>0.033137</td>\n      <td>0.019882</td>\n      <td>0.026380</td>\n      <td>0.047704</td>\n      <td>0.004101</td>\n      <td>-5.0</td>\n      <td>Democratic</td>\n    </tr>\n    <tr>\n      <th>California-21</th>\n      <td>674920</td>\n      <td>50494</td>\n      <td>317151</td>\n      <td>0.482497</td>\n      <td>0.031816</td>\n      <td>0.033608</td>\n      <td>0.031376</td>\n      <td>0.019676</td>\n      <td>0.012956</td>\n      <td>0.005655</td>\n      <td>...</td>\n      <td>0.020177</td>\n      <td>0.037796</td>\n      <td>0.021384</td>\n      <td>0.006593</td>\n      <td>0.013577</td>\n      <td>0.021413</td>\n      <td>0.048346</td>\n      <td>0.000382</td>\n      <td>-5.0</td>\n      <td>Republican</td>\n    </tr>\n    <tr>\n      <th>California-48</th>\n      <td>717896</td>\n      <td>51925</td>\n      <td>337424</td>\n      <td>0.487027</td>\n      <td>0.030460</td>\n      <td>0.031672</td>\n      <td>0.031874</td>\n      <td>0.019816</td>\n      <td>0.015175</td>\n      <td>0.008773</td>\n      <td>...</td>\n      <td>0.016739</td>\n      <td>0.069764</td>\n      <td>0.056146</td>\n      <td>0.048120</td>\n      <td>0.037096</td>\n      <td>0.075750</td>\n      <td>0.024989</td>\n      <td>0.000776</td>\n      <td>1.0</td>\n      <td>Republican</td>\n    </tr>\n    <tr>\n      <th>California-10</th>\n      <td>687453</td>\n      <td>47531</td>\n      <td>319267</td>\n      <td>0.490694</td>\n      <td>0.027369</td>\n      <td>0.030998</td>\n      <td>0.035688</td>\n      <td>0.018094</td>\n      <td>0.011154</td>\n      <td>0.005353</td>\n      <td>...</td>\n      <td>0.021468</td>\n      <td>0.027128</td>\n      <td>0.019936</td>\n      <td>0.015623</td>\n      <td>0.013948</td>\n      <td>0.025336</td>\n      <td>0.030971</td>\n      <td>0.000495</td>\n      <td>0.0</td>\n      <td>Democratic</td>\n    </tr>\n    <tr>\n      <th>California-34</th>\n      <td>735858</td>\n      <td>59950</td>\n      <td>326251</td>\n      <td>0.487628</td>\n      <td>0.028277</td>\n      <td>0.028654</td>\n      <td>0.032448</td>\n      <td>0.020088</td>\n      <td>0.012328</td>\n      <td>0.008195</td>\n      <td>...</td>\n      <td>0.014400</td>\n      <td>0.057790</td>\n      <td>0.066283</td>\n      <td>0.087788</td>\n      <td>0.156045</td>\n      <td>0.236536</td>\n      <td>0.001995</td>\n      <td>0.001625</td>\n      <td>-34.0</td>\n      <td>Democratic</td>\n    </tr>\n  </tbody>\n</table>\n<p>5 rows × 156 columns</p>\n</div>"
     },
     "execution_count": 2,
     "metadata": {},
     "output_type": "execute_result"
    }
   ],
   "source": [
    "congressional_district_demographics.head()"
   ],
   "metadata": {
    "collapsed": false,
    "pycharm": {
     "name": "#%%\n"
    }
   }
  },
  {
   "cell_type": "code",
   "execution_count": 3,
   "outputs": [
    {
     "data": {
      "text/plain": "       Total Population  \\\ncount      4.370000e+02   \nmean       7.584284e+05   \nstd        1.309938e+05   \nmin        5.292950e+05   \n25%        7.175940e+05   \n50%        7.455260e+05   \n75%        7.827040e+05   \nmax        3.193694e+06   \n\n       Median household income in the past 12 months (in 2019 inflation-adjusted dollars)  \\\ncount                                         437.000000                                    \nmean                                        68265.668192                                    \nstd                                         18958.702253                                    \nmin                                         20474.000000                                    \n25%                                         55203.000000                                    \n50%                                         63550.000000                                    \n75%                                         77164.000000                                    \nmax                                        149375.000000                                    \n\n       UNITS IN STRUCTURE:Total  Male Population  \\\ncount              4.370000e+02       437.000000   \nmean               3.232167e+05         0.492223   \nstd                7.305522e+04         0.009421   \nmin                1.874650e+05         0.449924   \n25%                2.964000e+05         0.486323   \n50%                3.214370e+05         0.492357   \n75%                3.447350e+05         0.498234   \nmax                1.559505e+06         0.523912   \n\n       Male Population: Under 5 years  Male Population: 5 to 9 years  \\\ncount                      437.000000                     437.000000   \nmean                         0.030183                       0.030480   \nstd                          0.004250                       0.004382   \nmin                          0.017927                       0.014458   \n25%                          0.027369                       0.027648   \n50%                          0.030141                       0.030411   \n75%                          0.032643                       0.033247   \nmax                          0.044644                       0.045456   \n\n       Male Population: 10 to 14 years  Male Population: 15 to 17 years  \\\ncount                       437.000000                       437.000000   \nmean                          0.033390                         0.019355   \nstd                           0.004831                         0.002746   \nmin                           0.012922                         0.007581   \n25%                           0.030463                         0.017718   \n50%                           0.033166                         0.019427   \n75%                           0.036110                         0.021003   \nmax                           0.050117                         0.026089   \n\n       Male Population: 18 and 19 years  Male Population: 20 years  ...  \\\ncount                        437.000000                 437.000000  ...   \nmean                           0.013851                   0.007075  ...   \nstd                            0.002906                   0.001838  ...   \nmin                            0.005786                   0.003085  ...   \n25%                            0.011785                   0.005769  ...   \n50%                            0.013480                   0.006797  ...   \n75%                            0.015426                   0.008287  ...   \nmax                            0.026471                   0.015657  ...   \n\n       UNITS IN STRUCTURE:1, attached  UNITS IN STRUCTURE:2  \\\ncount                      437.000000            437.000000   \nmean                         0.060119              0.035790   \nstd                          0.061734              0.038789   \nmin                          0.004807              0.002964   \n25%                          0.027908              0.015974   \n50%                          0.045081              0.023778   \n75%                          0.070148              0.037404   \nmax                          0.589504              0.250447   \n\n       UNITS IN STRUCTURE:3 or 4  UNITS IN STRUCTURE:5 to 9  \\\ncount                 437.000000                 437.000000   \nmean                    0.043891                   0.048302   \nstd                     0.028702                   0.023350   \nmin                     0.007731                   0.002691   \n25%                     0.027128                   0.031308   \n50%                     0.036592                   0.044277   \n75%                     0.050200                   0.058638   \nmax                     0.307036                   0.194220   \n\n       UNITS IN STRUCTURE:10 to 19  UNITS IN STRUCTURE:20 to 49  \\\ncount                   437.000000                   437.000000   \nmean                      0.045556                     0.038254   \nstd                       0.027785                     0.036386   \nmin                       0.002582                     0.003286   \n25%                       0.025300                     0.017453   \n50%                       0.039173                     0.027115   \n75%                       0.058180                     0.044054   \nmax                       0.177505                     0.316314   \n\n       UNITS IN STRUCTURE:50 or more  UNITS IN STRUCTURE:Mobile home  \\\ncount                     437.000000                      437.000000   \nmean                        0.060364                        0.062198   \nstd                         0.074163                        0.063618   \nmin                         0.003653                        0.000080   \n25%                         0.021190                        0.013710   \n50%                         0.036414                        0.040188   \n75%                         0.069433                        0.092658   \nmax                         0.661966                        0.345572   \n\n       UNITS IN STRUCTURE:Boat, RV, van, etc.    Cook PVI  \ncount                              437.000000  435.000000  \nmean                                 0.001027   -0.436782  \nstd                                  0.001478   16.920729  \nmin                                  0.000000  -41.000000  \n25%                                  0.000138  -12.000000  \n50%                                  0.000502    2.000000  \n75%                                  0.001385   12.000000  \nmax                                  0.015786   34.000000  \n\n[8 rows x 155 columns]",
      "text/html": "<div>\n<style scoped>\n    .dataframe tbody tr th:only-of-type {\n        vertical-align: middle;\n    }\n\n    .dataframe tbody tr th {\n        vertical-align: top;\n    }\n\n    .dataframe thead th {\n        text-align: right;\n    }\n</style>\n<table border=\"1\" class=\"dataframe\">\n  <thead>\n    <tr style=\"text-align: right;\">\n      <th></th>\n      <th>Total Population</th>\n      <th>Median household income in the past 12 months (in 2019 inflation-adjusted dollars)</th>\n      <th>UNITS IN STRUCTURE:Total</th>\n      <th>Male Population</th>\n      <th>Male Population: Under 5 years</th>\n      <th>Male Population: 5 to 9 years</th>\n      <th>Male Population: 10 to 14 years</th>\n      <th>Male Population: 15 to 17 years</th>\n      <th>Male Population: 18 and 19 years</th>\n      <th>Male Population: 20 years</th>\n      <th>...</th>\n      <th>UNITS IN STRUCTURE:1, attached</th>\n      <th>UNITS IN STRUCTURE:2</th>\n      <th>UNITS IN STRUCTURE:3 or 4</th>\n      <th>UNITS IN STRUCTURE:5 to 9</th>\n      <th>UNITS IN STRUCTURE:10 to 19</th>\n      <th>UNITS IN STRUCTURE:20 to 49</th>\n      <th>UNITS IN STRUCTURE:50 or more</th>\n      <th>UNITS IN STRUCTURE:Mobile home</th>\n      <th>UNITS IN STRUCTURE:Boat, RV, van, etc.</th>\n      <th>Cook PVI</th>\n    </tr>\n  </thead>\n  <tbody>\n    <tr>\n      <th>count</th>\n      <td>4.370000e+02</td>\n      <td>437.000000</td>\n      <td>4.370000e+02</td>\n      <td>437.000000</td>\n      <td>437.000000</td>\n      <td>437.000000</td>\n      <td>437.000000</td>\n      <td>437.000000</td>\n      <td>437.000000</td>\n      <td>437.000000</td>\n      <td>...</td>\n      <td>437.000000</td>\n      <td>437.000000</td>\n      <td>437.000000</td>\n      <td>437.000000</td>\n      <td>437.000000</td>\n      <td>437.000000</td>\n      <td>437.000000</td>\n      <td>437.000000</td>\n      <td>437.000000</td>\n      <td>435.000000</td>\n    </tr>\n    <tr>\n      <th>mean</th>\n      <td>7.584284e+05</td>\n      <td>68265.668192</td>\n      <td>3.232167e+05</td>\n      <td>0.492223</td>\n      <td>0.030183</td>\n      <td>0.030480</td>\n      <td>0.033390</td>\n      <td>0.019355</td>\n      <td>0.013851</td>\n      <td>0.007075</td>\n      <td>...</td>\n      <td>0.060119</td>\n      <td>0.035790</td>\n      <td>0.043891</td>\n      <td>0.048302</td>\n      <td>0.045556</td>\n      <td>0.038254</td>\n      <td>0.060364</td>\n      <td>0.062198</td>\n      <td>0.001027</td>\n      <td>-0.436782</td>\n    </tr>\n    <tr>\n      <th>std</th>\n      <td>1.309938e+05</td>\n      <td>18958.702253</td>\n      <td>7.305522e+04</td>\n      <td>0.009421</td>\n      <td>0.004250</td>\n      <td>0.004382</td>\n      <td>0.004831</td>\n      <td>0.002746</td>\n      <td>0.002906</td>\n      <td>0.001838</td>\n      <td>...</td>\n      <td>0.061734</td>\n      <td>0.038789</td>\n      <td>0.028702</td>\n      <td>0.023350</td>\n      <td>0.027785</td>\n      <td>0.036386</td>\n      <td>0.074163</td>\n      <td>0.063618</td>\n      <td>0.001478</td>\n      <td>16.920729</td>\n    </tr>\n    <tr>\n      <th>min</th>\n      <td>5.292950e+05</td>\n      <td>20474.000000</td>\n      <td>1.874650e+05</td>\n      <td>0.449924</td>\n      <td>0.017927</td>\n      <td>0.014458</td>\n      <td>0.012922</td>\n      <td>0.007581</td>\n      <td>0.005786</td>\n      <td>0.003085</td>\n      <td>...</td>\n      <td>0.004807</td>\n      <td>0.002964</td>\n      <td>0.007731</td>\n      <td>0.002691</td>\n      <td>0.002582</td>\n      <td>0.003286</td>\n      <td>0.003653</td>\n      <td>0.000080</td>\n      <td>0.000000</td>\n      <td>-41.000000</td>\n    </tr>\n    <tr>\n      <th>25%</th>\n      <td>7.175940e+05</td>\n      <td>55203.000000</td>\n      <td>2.964000e+05</td>\n      <td>0.486323</td>\n      <td>0.027369</td>\n      <td>0.027648</td>\n      <td>0.030463</td>\n      <td>0.017718</td>\n      <td>0.011785</td>\n      <td>0.005769</td>\n      <td>...</td>\n      <td>0.027908</td>\n      <td>0.015974</td>\n      <td>0.027128</td>\n      <td>0.031308</td>\n      <td>0.025300</td>\n      <td>0.017453</td>\n      <td>0.021190</td>\n      <td>0.013710</td>\n      <td>0.000138</td>\n      <td>-12.000000</td>\n    </tr>\n    <tr>\n      <th>50%</th>\n      <td>7.455260e+05</td>\n      <td>63550.000000</td>\n      <td>3.214370e+05</td>\n      <td>0.492357</td>\n      <td>0.030141</td>\n      <td>0.030411</td>\n      <td>0.033166</td>\n      <td>0.019427</td>\n      <td>0.013480</td>\n      <td>0.006797</td>\n      <td>...</td>\n      <td>0.045081</td>\n      <td>0.023778</td>\n      <td>0.036592</td>\n      <td>0.044277</td>\n      <td>0.039173</td>\n      <td>0.027115</td>\n      <td>0.036414</td>\n      <td>0.040188</td>\n      <td>0.000502</td>\n      <td>2.000000</td>\n    </tr>\n    <tr>\n      <th>75%</th>\n      <td>7.827040e+05</td>\n      <td>77164.000000</td>\n      <td>3.447350e+05</td>\n      <td>0.498234</td>\n      <td>0.032643</td>\n      <td>0.033247</td>\n      <td>0.036110</td>\n      <td>0.021003</td>\n      <td>0.015426</td>\n      <td>0.008287</td>\n      <td>...</td>\n      <td>0.070148</td>\n      <td>0.037404</td>\n      <td>0.050200</td>\n      <td>0.058638</td>\n      <td>0.058180</td>\n      <td>0.044054</td>\n      <td>0.069433</td>\n      <td>0.092658</td>\n      <td>0.001385</td>\n      <td>12.000000</td>\n    </tr>\n    <tr>\n      <th>max</th>\n      <td>3.193694e+06</td>\n      <td>149375.000000</td>\n      <td>1.559505e+06</td>\n      <td>0.523912</td>\n      <td>0.044644</td>\n      <td>0.045456</td>\n      <td>0.050117</td>\n      <td>0.026089</td>\n      <td>0.026471</td>\n      <td>0.015657</td>\n      <td>...</td>\n      <td>0.589504</td>\n      <td>0.250447</td>\n      <td>0.307036</td>\n      <td>0.194220</td>\n      <td>0.177505</td>\n      <td>0.316314</td>\n      <td>0.661966</td>\n      <td>0.345572</td>\n      <td>0.015786</td>\n      <td>34.000000</td>\n    </tr>\n  </tbody>\n</table>\n<p>8 rows × 155 columns</p>\n</div>"
     },
     "execution_count": 3,
     "metadata": {},
     "output_type": "execute_result"
    }
   ],
   "source": [
    "congressional_district_demographics.describe()"
   ],
   "metadata": {
    "collapsed": false,
    "pycharm": {
     "name": "#%%\n"
    }
   }
  },
  {
   "cell_type": "code",
   "execution_count": 13,
   "outputs": [
    {
     "name": "stdout",
     "output_type": "stream",
     "text": [
      "SEX BY AGE (AMERICAN INDIAN AND ALASKA NATIVE ALONE) Male:                                 183\n",
      "SEX BY AGE (AMERICAN INDIAN AND ALASKA NATIVE ALONE) Male: Under 18 years                  183\n",
      "SEX BY AGE (AMERICAN INDIAN AND ALASKA NATIVE ALONE) Male: 18 to 64 years                  183\n",
      "SEX BY AGE (AMERICAN INDIAN AND ALASKA NATIVE ALONE) Male: 65 years and over               183\n",
      "SEX BY AGE (AMERICAN INDIAN AND ALASKA NATIVE ALONE) Female:                               183\n",
      "SEX BY AGE (AMERICAN INDIAN AND ALASKA NATIVE ALONE) Female:Under 18 years                 183\n",
      "SEX BY AGE (AMERICAN INDIAN AND ALASKA NATIVE ALONE) Female:18 to 64 years                 183\n",
      "SEX BY AGE (AMERICAN INDIAN AND ALASKA NATIVE ALONE) Female:65 years and over              183\n",
      "SEX BY AGE (ASIAN ALONE) Male:                                                               1\n",
      "SEX BY AGE (ASIAN ALONE) Male: Under 18 years                                                1\n",
      "SEX BY AGE (ASIAN ALONE) Male: 18 to 64 years                                                1\n",
      "SEX BY AGE (ASIAN ALONE) Male: 65 years and over                                             1\n",
      "SEX BY AGE (ASIAN ALONE) Female:                                                             1\n",
      "SEX BY AGE (ASIAN ALONE) Female: Under 18 years                                              1\n",
      "SEX BY AGE (ASIAN ALONE) Female: 18 to 64 years                                              1\n",
      "SEX BY AGE (ASIAN ALONE) Female: 65 years and over                                           1\n",
      "SEX BY AGE (NATIVE HAWAIIAN AND OTHER PACIFIC ISLANDER ALONE) Male:                        390\n",
      "SEX BY AGE (NATIVE HAWAIIAN AND OTHER PACIFIC ISLANDER ALONE) Male: Under 18 years         390\n",
      "SEX BY AGE (NATIVE HAWAIIAN AND OTHER PACIFIC ISLANDER ALONE) Male: 18 to 64 years         390\n",
      "SEX BY AGE (NATIVE HAWAIIAN AND OTHER PACIFIC ISLANDER ALONE) Male: 65 years and over      390\n",
      "SEX BY AGE (NATIVE HAWAIIAN AND OTHER PACIFIC ISLANDER ALONE) Female:                      390\n",
      "SEX BY AGE (NATIVE HAWAIIAN AND OTHER PACIFIC ISLANDER ALONE) Female: Under 18 years       390\n",
      "SEX BY AGE (NATIVE HAWAIIAN AND OTHER PACIFIC ISLANDER ALONE) Female: 18 to 64 years       390\n",
      "SEX BY AGE (NATIVE HAWAIIAN AND OTHER PACIFIC ISLANDER ALONE) Female: 65 years and over    390\n",
      "SEX BY AGE (SOME OTHER RACE ALONE) Male:                                                     9\n",
      "SEX BY AGE (SOME OTHER RACE ALONE) Male: Under 18 years                                      9\n",
      "SEX BY AGE (SOME OTHER RACE ALONE) Male: 18 to 64 years                                      9\n",
      "SEX BY AGE (SOME OTHER RACE ALONE) Male: 65 years and over                                   9\n",
      "SEX BY AGE (SOME OTHER RACE ALONE) Female:                                                   9\n",
      "SEX BY AGE (SOME OTHER RACE ALONE) Female: Under 18 years                                    9\n",
      "SEX BY AGE (SOME OTHER RACE ALONE) Female: 18 to 64 years                                    9\n",
      "SEX BY AGE (SOME OTHER RACE ALONE) Female: 65 years and over                                 9\n",
      "Poverty: Below 100 percent of the poverty level                                              1\n",
      "Poverty: 100 to 149 percent of the poverty level                                             1\n",
      "Poverty: At or above 150 percent of the poverty level                                        1\n",
      "Cook PVI                                                                                     2\n",
      "Incumbent House Party                                                                        2\n",
      "dtype: int64\n"
     ]
    }
   ],
   "source": [
    "na_columns = congressional_district_demographics.isna().sum()\n",
    "print(na_columns[na_columns>0])"
   ],
   "metadata": {
    "collapsed": false,
    "pycharm": {
     "name": "#%%\n"
    }
   }
  },
  {
   "cell_type": "code",
   "execution_count": 16,
   "outputs": [
    {
     "data": {
      "text/plain": "             Total Population  \\\nNew York-03            721691   \n\n             Median household income in the past 12 months (in 2019 inflation-adjusted dollars)  \\\nNew York-03                                              68695                                    \n\n             UNITS IN STRUCTURE:Total  Male Population  \\\nNew York-03                    309253         0.496287   \n\n             Male Population: Under 5 years  Male Population: 5 to 9 years  \\\nNew York-03                        0.028764                       0.029993   \n\n             Male Population: 10 to 14 years  Male Population: 15 to 17 years  \\\nNew York-03                         0.034897                         0.021506   \n\n             Male Population: 18 and 19 years  Male Population: 20 years  ...  \\\nNew York-03                          0.012935                   0.006651  ...   \n\n             UNITS IN STRUCTURE:2  UNITS IN STRUCTURE:3 or 4  \\\nNew York-03              0.144749                   0.027023   \n\n             UNITS IN STRUCTURE:5 to 9  UNITS IN STRUCTURE:10 to 19  \\\nNew York-03                   0.016478                     0.017406   \n\n             UNITS IN STRUCTURE:20 to 49  UNITS IN STRUCTURE:50 or more  \\\nNew York-03                     0.023153                       0.046719   \n\n             UNITS IN STRUCTURE:Mobile home  \\\nNew York-03                        0.002432   \n\n             UNITS IN STRUCTURE:Boat, RV, van, etc.  Cook PVI  \\\nNew York-03                                0.000084      -3.0   \n\n             Incumbent House Party  \nNew York-03             Democratic  \n\n[1 rows x 156 columns]",
      "text/html": "<div>\n<style scoped>\n    .dataframe tbody tr th:only-of-type {\n        vertical-align: middle;\n    }\n\n    .dataframe tbody tr th {\n        vertical-align: top;\n    }\n\n    .dataframe thead th {\n        text-align: right;\n    }\n</style>\n<table border=\"1\" class=\"dataframe\">\n  <thead>\n    <tr style=\"text-align: right;\">\n      <th></th>\n      <th>Total Population</th>\n      <th>Median household income in the past 12 months (in 2019 inflation-adjusted dollars)</th>\n      <th>UNITS IN STRUCTURE:Total</th>\n      <th>Male Population</th>\n      <th>Male Population: Under 5 years</th>\n      <th>Male Population: 5 to 9 years</th>\n      <th>Male Population: 10 to 14 years</th>\n      <th>Male Population: 15 to 17 years</th>\n      <th>Male Population: 18 and 19 years</th>\n      <th>Male Population: 20 years</th>\n      <th>...</th>\n      <th>UNITS IN STRUCTURE:2</th>\n      <th>UNITS IN STRUCTURE:3 or 4</th>\n      <th>UNITS IN STRUCTURE:5 to 9</th>\n      <th>UNITS IN STRUCTURE:10 to 19</th>\n      <th>UNITS IN STRUCTURE:20 to 49</th>\n      <th>UNITS IN STRUCTURE:50 or more</th>\n      <th>UNITS IN STRUCTURE:Mobile home</th>\n      <th>UNITS IN STRUCTURE:Boat, RV, van, etc.</th>\n      <th>Cook PVI</th>\n      <th>Incumbent House Party</th>\n    </tr>\n  </thead>\n  <tbody>\n    <tr>\n      <th>New York-03</th>\n      <td>721691</td>\n      <td>68695</td>\n      <td>309253</td>\n      <td>0.496287</td>\n      <td>0.028764</td>\n      <td>0.029993</td>\n      <td>0.034897</td>\n      <td>0.021506</td>\n      <td>0.012935</td>\n      <td>0.006651</td>\n      <td>...</td>\n      <td>0.144749</td>\n      <td>0.027023</td>\n      <td>0.016478</td>\n      <td>0.017406</td>\n      <td>0.023153</td>\n      <td>0.046719</td>\n      <td>0.002432</td>\n      <td>0.000084</td>\n      <td>-3.0</td>\n      <td>Democratic</td>\n    </tr>\n  </tbody>\n</table>\n<p>1 rows × 156 columns</p>\n</div>"
     },
     "execution_count": 16,
     "metadata": {},
     "output_type": "execute_result"
    }
   ],
   "source": [
    "congressional_district_demographics[congressional_district_demographics['Poverty: At or above 150 percent of the poverty level'].isna()]"
   ],
   "metadata": {
    "collapsed": false,
    "pycharm": {
     "name": "#%%\n"
    }
   }
  },
  {
   "cell_type": "code",
   "execution_count": null,
   "outputs": [],
   "source": [
    "corr_matrix = congressional_district_demographics.corr()"
   ],
   "metadata": {
    "collapsed": false,
    "pycharm": {
     "name": "#%%\n"
    }
   }
  },
  {
   "cell_type": "code",
   "execution_count": null,
   "outputs": [],
   "source": [
    "import seaborn as sns\n",
    "sns.heatmap(corr_matrix)"
   ],
   "metadata": {
    "collapsed": false,
    "pycharm": {
     "name": "#%%\n"
    }
   }
  },
  {
   "cell_type": "code",
   "execution_count": 11,
   "outputs": [],
   "source": [
    "# Experiment with PCA"
   ],
   "metadata": {
    "collapsed": false,
    "pycharm": {
     "name": "#%%\n"
    }
   }
  },
  {
   "cell_type": "code",
   "execution_count": 24,
   "outputs": [
    {
     "name": "stderr",
     "output_type": "stream",
     "text": [
      "<ipython-input-24-4923c712f5c6>:4: DeprecationWarning: `np.float` is a deprecated alias for the builtin `float`. To silence this warning, use `float` by itself. Doing this will not modify any behavior and is safe. If you specifically wanted the numpy scalar type, use `np.float64` here.\n",
      "Deprecated in NumPy 1.20; for more details and guidance: https://numpy.org/devdocs/release/1.20.0-notes.html#deprecations\n",
      "  district_df_noncat = district_df.select_dtypes(include=[np.float])\n"
     ]
    }
   ],
   "source": [
    "from sklearn.impute import SimpleImputer\n",
    "imputer = SimpleImputer(strategy='constant')\n",
    "district_df = congressional_district_demographics\n",
    "district_df_noncat = district_df.select_dtypes(include=[np.float])\n",
    "district_df_noncat = imputer.fit_transform(district_df_noncat)\n",
    "district_df_noncat = pd.DataFrame(district_df_noncat, index=district_df.index)\n",
    "district_df_noncat = (district_df_noncat-district_df_noncat.mean()) / district_df_noncat.std()"
   ],
   "metadata": {
    "collapsed": false,
    "pycharm": {
     "name": "#%%\n"
    }
   }
  },
  {
   "cell_type": "code",
   "execution_count": 25,
   "outputs": [],
   "source": [
    "from sklearn.decomposition import PCA\n",
    "pca = PCA()\n",
    "district_df_pca_noncat = pca.fit_transform(district_df_noncat)\n",
    "district_df_pca_noncat = pd.DataFrame(district_df_pca_noncat, index=district_df.index)"
   ],
   "metadata": {
    "collapsed": false,
    "pycharm": {
     "name": "#%%\n"
    }
   }
  },
  {
   "cell_type": "code",
   "execution_count": 26,
   "outputs": [
    {
     "data": {
      "text/plain": "46"
     },
     "execution_count": 26,
     "metadata": {},
     "output_type": "execute_result"
    }
   ],
   "source": [
    "cumsum = np.cumsum(pca.explained_variance_ratio_)\n",
    "d = np.argmax(cumsum >= 0.95) + 1\n",
    "d"
   ],
   "metadata": {
    "collapsed": false,
    "pycharm": {
     "name": "#%%\n"
    }
   }
  },
  {
   "cell_type": "code",
   "execution_count": 27,
   "outputs": [
    {
     "data": {
      "text/plain": "array([1.36152799e-01, 1.14725944e-01, 9.31348688e-02, 7.75549163e-02,\n       6.78165530e-02, 5.06520588e-02, 4.89873913e-02, 4.19281305e-02,\n       3.90458565e-02, 3.32471815e-02, 2.61785698e-02, 2.50275439e-02,\n       2.35634409e-02, 1.57722745e-02, 1.49481741e-02, 1.31884127e-02,\n       1.21884990e-02, 1.05363638e-02, 8.76928630e-03, 7.95075943e-03,\n       7.04463480e-03, 6.04732978e-03, 5.74407141e-03, 5.29857880e-03,\n       4.63219438e-03, 4.36612558e-03, 4.04020506e-03, 3.89966646e-03,\n       3.71998918e-03, 3.54356436e-03, 3.44719313e-03, 3.23938405e-03,\n       3.08825243e-03, 2.94010415e-03, 2.93792173e-03, 2.88147097e-03,\n       2.76544735e-03, 2.63920717e-03, 2.51648271e-03, 2.45958195e-03,\n       2.31280481e-03, 2.21941838e-03, 2.14008541e-03, 2.04160976e-03,\n       1.91833177e-03, 1.88547183e-03, 1.82700091e-03, 1.75855175e-03,\n       1.69305822e-03, 1.64464114e-03, 1.62218600e-03, 1.54811869e-03,\n       1.51532242e-03, 1.45876094e-03, 1.40373730e-03, 1.37078033e-03,\n       1.34318114e-03, 1.31062996e-03, 1.20909983e-03, 1.18911439e-03,\n       1.12444386e-03, 1.10856262e-03, 1.09524641e-03, 9.86887846e-04,\n       9.65337240e-04, 9.50715352e-04, 8.89538322e-04, 8.68385719e-04,\n       8.40682115e-04, 8.16613186e-04, 7.73958543e-04, 7.51422504e-04,\n       7.34775516e-04, 7.07520990e-04, 6.89773061e-04, 6.47292508e-04,\n       6.42465714e-04, 6.24165396e-04, 5.93443451e-04, 5.88174988e-04,\n       5.64406226e-04, 5.39150336e-04, 5.18814551e-04, 5.02314063e-04,\n       4.98175282e-04, 4.81726487e-04, 4.61116104e-04, 4.51348127e-04,\n       4.19109814e-04, 4.10073224e-04, 3.80652099e-04, 3.67507068e-04,\n       3.44740773e-04, 3.29228690e-04, 3.13688450e-04, 3.06636970e-04,\n       2.90957240e-04, 2.85178019e-04, 2.75702095e-04, 2.64951794e-04,\n       2.44402037e-04, 2.36612330e-04, 2.14911586e-04, 2.08057210e-04,\n       1.95108353e-04, 1.77479334e-04, 1.62787183e-04, 1.49440281e-04,\n       1.48401288e-04, 1.44470498e-04, 1.34494505e-04, 1.32971142e-04,\n       1.20279882e-04, 1.11686140e-04, 1.06851523e-04, 9.73835854e-05,\n       9.35139219e-05, 8.37770477e-05, 7.89393954e-05, 7.00439047e-05,\n       6.74537307e-05, 6.41585900e-05, 5.92428073e-05, 5.44783823e-05,\n       5.17424146e-05, 4.98594035e-05, 4.65810056e-05, 4.11588034e-05,\n       3.73377784e-05, 3.63993612e-05, 3.01180606e-05, 2.81460738e-05,\n       2.47210773e-05, 2.23247460e-05, 2.19525886e-05, 1.38342118e-05,\n       1.66311505e-06, 2.95975254e-31, 1.69328245e-31, 1.25481095e-31,\n       7.38615431e-32, 6.93683992e-32, 6.36691892e-32, 5.97225188e-32,\n       4.85138792e-32, 1.18629441e-32, 8.37413562e-33, 6.76583778e-33,\n       2.63216332e-33, 2.08283913e-33, 1.58869825e-33, 1.43457453e-33])"
     },
     "execution_count": 27,
     "metadata": {},
     "output_type": "execute_result"
    }
   ],
   "source": [
    "pca.explained_variance_ratio_"
   ],
   "metadata": {
    "collapsed": false,
    "pycharm": {
     "name": "#%%\n"
    }
   }
  },
  {
   "cell_type": "code",
   "execution_count": null,
   "outputs": [],
   "source": [],
   "metadata": {
    "collapsed": false,
    "pycharm": {
     "name": "#%%\n"
    }
   }
  }
 ],
 "metadata": {
  "kernelspec": {
   "display_name": "Python 3",
   "language": "python",
   "name": "python3"
  },
  "language_info": {
   "codemirror_mode": {
    "name": "ipython",
    "version": 2
   },
   "file_extension": ".py",
   "mimetype": "text/x-python",
   "name": "python",
   "nbconvert_exporter": "python",
   "pygments_lexer": "ipython2",
   "version": "2.7.6"
  }
 },
 "nbformat": 4,
 "nbformat_minor": 0
}